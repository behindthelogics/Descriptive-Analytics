{
 "cells": [
  {
   "cell_type": "markdown",
   "metadata": {},
   "source": [
    "# Descriptive Analytics"
   ]
  },
  {
   "cell_type": "markdown",
   "metadata": {},
   "source": [
    "Descriptive Analytics depends on the Statistical Analysis of the data"
   ]
  },
  {
   "cell_type": "markdown",
   "metadata": {},
   "source": [
    "What is Statistical Analysis???\n",
    "\n",
    "Statistical Analysis is Summarizing the data.\n",
    "it is describing the data,\n",
    "It is showing the data in a meaning full way\n",
    "We are getting the trend of the data"
   ]
  },
  {
   "cell_type": "markdown",
   "metadata": {},
   "source": [
    "What it involves???\n",
    "\n",
    "It involves the calculation of following measures\n",
    "The measures of centre & meaures of variabity\n",
    "    In general we go for descriptive analytics using measure of centre \n",
    "    ie)average, for example to get a performance of a class based on score,we take the \n",
    "    average score of all students.\n",
    "\n",
    "    So measure of centre like mean median and mode are important, but it is not enough, \n",
    "    we need meaures of variabity, We need percentiles and also we need to make graphs \n",
    "    and do EDA before going to model building for Machine learning."
   ]
  },
  {
   "cell_type": "markdown",
   "metadata": {},
   "source": [
    "Please refer my video on <code>statistical descriptions of Data</code>for Mean, median, mode, standard deviation formula and definition of the terms."
   ]
  },
  {
   "cell_type": "markdown",
   "metadata": {},
   "source": [
    "I used melbourne house price dataset. i downloaded from kaggle and stored.\n",
    "https://www.kaggle.com/anthonypino/melbourne-housing-market"
   ]
  },
  {
   "cell_type": "markdown",
   "metadata": {},
   "source": [
    "Import pandas library and read the stored dataset into dataframe for anlysis"
   ]
  },
  {
   "cell_type": "code",
   "execution_count": 2,
   "metadata": {},
   "outputs": [],
   "source": [
    "import pandas as pd"
   ]
  },
  {
   "cell_type": "code",
   "execution_count": 3,
   "metadata": {
    "scrolled": true
   },
   "outputs": [
    {
     "data": {
      "text/html": [
       "<div>\n",
       "<style scoped>\n",
       "    .dataframe tbody tr th:only-of-type {\n",
       "        vertical-align: middle;\n",
       "    }\n",
       "\n",
       "    .dataframe tbody tr th {\n",
       "        vertical-align: top;\n",
       "    }\n",
       "\n",
       "    .dataframe thead th {\n",
       "        text-align: right;\n",
       "    }\n",
       "</style>\n",
       "<table border=\"1\" class=\"dataframe\">\n",
       "  <thead>\n",
       "    <tr style=\"text-align: right;\">\n",
       "      <th></th>\n",
       "      <th>Suburb</th>\n",
       "      <th>Address</th>\n",
       "      <th>Rooms</th>\n",
       "      <th>Type</th>\n",
       "      <th>Price</th>\n",
       "      <th>Method</th>\n",
       "      <th>SellerG</th>\n",
       "      <th>Date</th>\n",
       "      <th>Postcode</th>\n",
       "      <th>Regionname</th>\n",
       "      <th>Propertycount</th>\n",
       "      <th>Distance</th>\n",
       "      <th>CouncilArea</th>\n",
       "    </tr>\n",
       "  </thead>\n",
       "  <tbody>\n",
       "    <tr>\n",
       "      <th>0</th>\n",
       "      <td>Abbotsford</td>\n",
       "      <td>49 Lithgow St</td>\n",
       "      <td>3</td>\n",
       "      <td>h</td>\n",
       "      <td>1490000.0</td>\n",
       "      <td>S</td>\n",
       "      <td>Jellis</td>\n",
       "      <td>1/04/2017</td>\n",
       "      <td>3067</td>\n",
       "      <td>Northern Metropolitan</td>\n",
       "      <td>4019</td>\n",
       "      <td>3.0</td>\n",
       "      <td>Yarra City Council</td>\n",
       "    </tr>\n",
       "    <tr>\n",
       "      <th>1</th>\n",
       "      <td>Abbotsford</td>\n",
       "      <td>59A Turner St</td>\n",
       "      <td>3</td>\n",
       "      <td>h</td>\n",
       "      <td>1220000.0</td>\n",
       "      <td>S</td>\n",
       "      <td>Marshall</td>\n",
       "      <td>1/04/2017</td>\n",
       "      <td>3067</td>\n",
       "      <td>Northern Metropolitan</td>\n",
       "      <td>4019</td>\n",
       "      <td>3.0</td>\n",
       "      <td>Yarra City Council</td>\n",
       "    </tr>\n",
       "    <tr>\n",
       "      <th>2</th>\n",
       "      <td>Abbotsford</td>\n",
       "      <td>119B Yarra St</td>\n",
       "      <td>3</td>\n",
       "      <td>h</td>\n",
       "      <td>1420000.0</td>\n",
       "      <td>S</td>\n",
       "      <td>Nelson</td>\n",
       "      <td>1/04/2017</td>\n",
       "      <td>3067</td>\n",
       "      <td>Northern Metropolitan</td>\n",
       "      <td>4019</td>\n",
       "      <td>3.0</td>\n",
       "      <td>Yarra City Council</td>\n",
       "    </tr>\n",
       "    <tr>\n",
       "      <th>3</th>\n",
       "      <td>Aberfeldie</td>\n",
       "      <td>68 Vida St</td>\n",
       "      <td>3</td>\n",
       "      <td>h</td>\n",
       "      <td>1515000.0</td>\n",
       "      <td>S</td>\n",
       "      <td>Barry</td>\n",
       "      <td>1/04/2017</td>\n",
       "      <td>3040</td>\n",
       "      <td>Western Metropolitan</td>\n",
       "      <td>1543</td>\n",
       "      <td>7.5</td>\n",
       "      <td>Moonee Valley City Council</td>\n",
       "    </tr>\n",
       "    <tr>\n",
       "      <th>4</th>\n",
       "      <td>Airport West</td>\n",
       "      <td>92 Clydesdale Rd</td>\n",
       "      <td>2</td>\n",
       "      <td>h</td>\n",
       "      <td>670000.0</td>\n",
       "      <td>S</td>\n",
       "      <td>Nelson</td>\n",
       "      <td>1/04/2017</td>\n",
       "      <td>3042</td>\n",
       "      <td>Western Metropolitan</td>\n",
       "      <td>3464</td>\n",
       "      <td>10.4</td>\n",
       "      <td>Moonee Valley City Council</td>\n",
       "    </tr>\n",
       "  </tbody>\n",
       "</table>\n",
       "</div>"
      ],
      "text/plain": [
       "         Suburb           Address  Rooms Type      Price Method   SellerG  \\\n",
       "0    Abbotsford     49 Lithgow St      3    h  1490000.0      S    Jellis   \n",
       "1    Abbotsford     59A Turner St      3    h  1220000.0      S  Marshall   \n",
       "2    Abbotsford     119B Yarra St      3    h  1420000.0      S    Nelson   \n",
       "3    Aberfeldie        68 Vida St      3    h  1515000.0      S     Barry   \n",
       "4  Airport West  92 Clydesdale Rd      2    h   670000.0      S    Nelson   \n",
       "\n",
       "        Date  Postcode             Regionname  Propertycount  Distance  \\\n",
       "0  1/04/2017      3067  Northern Metropolitan           4019       3.0   \n",
       "1  1/04/2017      3067  Northern Metropolitan           4019       3.0   \n",
       "2  1/04/2017      3067  Northern Metropolitan           4019       3.0   \n",
       "3  1/04/2017      3040   Western Metropolitan           1543       7.5   \n",
       "4  1/04/2017      3042   Western Metropolitan           3464      10.4   \n",
       "\n",
       "                  CouncilArea  \n",
       "0          Yarra City Council  \n",
       "1          Yarra City Council  \n",
       "2          Yarra City Council  \n",
       "3  Moonee Valley City Council  \n",
       "4  Moonee Valley City Council  "
      ]
     },
     "execution_count": 3,
     "metadata": {},
     "output_type": "execute_result"
    }
   ],
   "source": [
    "path = 'melbourne_house_prices_less.csv'\n",
    "df = pd.read_csv(path)\n",
    "df.head()"
   ]
  },
  {
   "cell_type": "code",
   "execution_count": 4,
   "metadata": {},
   "outputs": [
    {
     "data": {
      "text/plain": [
       "(63023, 13)"
      ]
     },
     "execution_count": 4,
     "metadata": {},
     "output_type": "execute_result"
    }
   ],
   "source": [
    "df.shape"
   ]
  },
  {
   "cell_type": "markdown",
   "metadata": {},
   "source": [
    "### Important information about the Dataset"
   ]
  },
  {
   "cell_type": "code",
   "execution_count": 5,
   "metadata": {
    "scrolled": true
   },
   "outputs": [
    {
     "name": "stdout",
     "output_type": "stream",
     "text": [
      "<class 'pandas.core.frame.DataFrame'>\n",
      "RangeIndex: 63023 entries, 0 to 63022\n",
      "Data columns (total 13 columns):\n",
      " #   Column         Non-Null Count  Dtype  \n",
      "---  ------         --------------  -----  \n",
      " 0   Suburb         63023 non-null  object \n",
      " 1   Address        63023 non-null  object \n",
      " 2   Rooms          63023 non-null  int64  \n",
      " 3   Type           63023 non-null  object \n",
      " 4   Price          48433 non-null  float64\n",
      " 5   Method         63023 non-null  object \n",
      " 6   SellerG        63023 non-null  object \n",
      " 7   Date           63023 non-null  object \n",
      " 8   Postcode       63023 non-null  int64  \n",
      " 9   Regionname     63023 non-null  object \n",
      " 10  Propertycount  63023 non-null  int64  \n",
      " 11  Distance       63023 non-null  float64\n",
      " 12  CouncilArea    63023 non-null  object \n",
      "dtypes: float64(2), int64(3), object(8)\n",
      "memory usage: 6.3+ MB\n"
     ]
    }
   ],
   "source": [
    "df.info()"
   ]
  },
  {
   "cell_type": "markdown",
   "metadata": {},
   "source": [
    "There are a total of 63023 entries in the dataset and 13 coumns\n",
    "\n",
    "The columns with data type “int64” and “float64” denotes numerical data\n",
    "and with data type “object” denotes categorical data.\n",
    "\n",
    "Sometimes the data type will not match with the feature, in that scenario we will convert the data type to the required form which is one of the pre processing step.\n",
    "\n",
    "Here in this dataset, although the postcode is represented as a number (int64), it\n",
    "doesn’t necessarily be quantitative. They are numbers applied to categorical\n",
    "data."
   ]
  },
  {
   "cell_type": "markdown",
   "metadata": {},
   "source": [
    "“Rooms”,“Price”, “Propertycount” and “Distance” are numerical data and \n",
    "the rest of them are categorical data.\n",
    "\n",
    "These understanding of features in our dataset as numerical and categorical data is more important to decide which visulization technique or which measure to apply on those feature."
   ]
  },
  {
   "cell_type": "markdown",
   "metadata": {},
   "source": [
    "### Measure of Center"
   ]
  },
  {
   "cell_type": "code",
   "execution_count": null,
   "metadata": {},
   "outputs": [],
   "source": [
    "To summarize our numerical data, we find out the central tendency of our data."
   ]
  },
  {
   "cell_type": "code",
   "execution_count": null,
   "metadata": {},
   "outputs": [],
   "source": [
    "For Example in our dataset \n",
    "\n",
    "It is obivious to get a question “What is the most typical value of the house price in our\n",
    "dataset?” or simply what is the avg house price in the melbbourn city?."
   ]
  },
  {
   "cell_type": "code",
   "execution_count": null,
   "metadata": {},
   "outputs": [],
   "source": [
    "To address this question, we calculate the two most common measures of center: mean and median."
   ]
  },
  {
   "cell_type": "markdown",
   "metadata": {},
   "source": [
    "#### Mean"
   ]
  },
  {
   "cell_type": "markdown",
   "metadata": {},
   "source": [
    "Mean is an average of all the numbers.\n",
    "\n",
    "    Sum up all the values of a target variable in the dataset\n",
    "    Divide the sum by the number of values."
   ]
  },
  {
   "cell_type": "markdown",
   "metadata": {},
   "source": [
    "#### Mean may be misleading"
   ]
  },
  {
   "cell_type": "markdown",
   "metadata": {},
   "source": [
    "    Sometimes a mean can be misleading and may not effectively show a typical value in our dataset when outlier are present in our dataset. \n",
    "    \n",
    "    This is because a mean might be influenced by the outliers."
   ]
  },
  {
   "cell_type": "markdown",
   "metadata": {},
   "source": [
    "#### Outliers"
   ]
  },
  {
   "cell_type": "code",
   "execution_count": null,
   "metadata": {},
   "outputs": [],
   "source": [
    "    Outliers are the numbers which are either extremely high or extremely low compared to\n",
    "    the rest of the numbers in a dataset.\n",
    "\n",
    "    Outlier will not behave with other data points and it will be out of box."
   ]
  },
  {
   "cell_type": "markdown",
   "metadata": {},
   "source": [
    "Let us discuss with a simpel example"
   ]
  },
  {
   "cell_type": "markdown",
   "metadata": {},
   "source": [
    "[70, 60, 1, 80, 92] and [70, 60, 300, 80, 92] are two different datasets and \n",
    "we will calculate mean value of the two datasets."
   ]
  },
  {
   "cell_type": "code",
   "execution_count": 6,
   "metadata": {},
   "outputs": [
    {
     "name": "stdout",
     "output_type": "stream",
     "text": [
      "60.6\n"
     ]
    }
   ],
   "source": [
    "# Mean calculated using sum() and len()\n",
    "data1 = [70, 60, 1, 80, 92]\n",
    "sumOfList = sum(data1)\n",
    "lenOfList = len(data1)\n",
    "avg = sumOfList / lenOfList\n",
    "print(avg)"
   ]
  },
  {
   "cell_type": "code",
   "execution_count": 7,
   "metadata": {},
   "outputs": [
    {
     "data": {
      "text/plain": [
       "60.6"
      ]
     },
     "execution_count": 7,
     "metadata": {},
     "output_type": "execute_result"
    }
   ],
   "source": [
    "#mean calculated using statistics.mean()\n",
    "import statistics\n",
    "statistics.mean(data1) "
   ]
  },
  {
   "cell_type": "code",
   "execution_count": 8,
   "metadata": {},
   "outputs": [
    {
     "data": {
      "text/plain": [
       "120.4"
      ]
     },
     "execution_count": 8,
     "metadata": {},
     "output_type": "execute_result"
    }
   ],
   "source": [
    "data2 = [70, 60, 300, 80, 92]\n",
    "statistics.mean(data2) "
   ]
  },
  {
   "cell_type": "markdown",
   "metadata": {},
   "source": [
    "    In data1 we get a mean of 60.6 and in data2 as sunddenly one data point is jumping into 300 and the mean gets double the value as 120.\n",
    "    \n",
    "    Here in data2 300 is the outlier.\n",
    "    \n",
    "    So, We need to find the outlier and it has to be removed from our dataset if we are using mean as the measure of centre"
   ]
  },
  {
   "cell_type": "markdown",
   "metadata": {},
   "source": [
    "#### Median"
   ]
  },
  {
   "cell_type": "markdown",
   "metadata": {},
   "source": [
    "    Median is the middle value of a sorted list of numbers."
   ]
  },
  {
   "cell_type": "markdown",
   "metadata": {},
   "source": [
    "How to calculate Mean??\n",
    "\n",
    "Sort the numbers from smallest to highest.\n",
    "\n",
    "If the list has an odd number of values, the value in the middle position is the median\n",
    "\n",
    "if the list has an even number of values, the average of the two values in the middle will be the\n",
    "median"
   ]
  },
  {
   "cell_type": "code",
   "execution_count": 9,
   "metadata": {},
   "outputs": [
    {
     "data": {
      "text/plain": [
       "87"
      ]
     },
     "execution_count": 9,
     "metadata": {},
     "output_type": "execute_result"
    }
   ],
   "source": [
    "# Median using statistics.median()\n",
    "odd_set = [30, 45, 67, 87, 94, 102, 124]\n",
    "statistics.median(odd_set) "
   ]
  },
  {
   "cell_type": "code",
   "execution_count": 10,
   "metadata": {},
   "outputs": [
    {
     "data": {
      "text/plain": [
       "90.5"
      ]
     },
     "execution_count": 10,
     "metadata": {},
     "output_type": "execute_result"
    }
   ],
   "source": [
    "even_set = [30, 45, 67, 87, 94, 102, 124, 180]\n",
    "statistics.median(even_set) "
   ]
  },
  {
   "cell_type": "markdown",
   "metadata": {},
   "source": [
    "#### Median is not influenced by the outliers."
   ]
  },
  {
   "cell_type": "code",
   "execution_count": 11,
   "metadata": {},
   "outputs": [
    {
     "data": {
      "text/plain": [
       "70"
      ]
     },
     "execution_count": 11,
     "metadata": {},
     "output_type": "execute_result"
    }
   ],
   "source": [
    "statistics.median(data1) "
   ]
  },
  {
   "cell_type": "code",
   "execution_count": 12,
   "metadata": {},
   "outputs": [
    {
     "data": {
      "text/plain": [
       "80"
      ]
     },
     "execution_count": 12,
     "metadata": {},
     "output_type": "execute_result"
    }
   ],
   "source": [
    "statistics.median(data2) "
   ]
  },
  {
   "cell_type": "markdown",
   "metadata": {},
   "source": [
    "Let us calculate Mean and Median of our house price from our dataset."
   ]
  },
  {
   "cell_type": "code",
   "execution_count": 13,
   "metadata": {},
   "outputs": [
    {
     "name": "stdout",
     "output_type": "stream",
     "text": [
      "997898.2414882415\n"
     ]
    }
   ],
   "source": [
    "#df[‘Price’] will select the column where the price values are populated.\n",
    "average = df['Price'].mean()\n",
    "print(average)"
   ]
  },
  {
   "cell_type": "code",
   "execution_count": 17,
   "metadata": {},
   "outputs": [
    {
     "name": "stdout",
     "output_type": "stream",
     "text": [
      "830000.0\n"
     ]
    }
   ],
   "source": [
    "med = df['Price'].median()\n",
    "print(med)"
   ]
  },
  {
   "cell_type": "code",
   "execution_count": 18,
   "metadata": {},
   "outputs": [
    {
     "name": "stdout",
     "output_type": "stream",
     "text": [
      "11200000.0\n"
     ]
    }
   ],
   "source": [
    "max = df['Price'].max()\n",
    "print(max)"
   ]
  },
  {
   "cell_type": "markdown",
   "metadata": {},
   "source": [
    "    So now we understand, in Some case mean is not good enough and on some other case median will     not be good enough to understand the central tendency of the datset.\n",
    "    \n",
    "    it always depends upon the dataset and the outliers."
   ]
  },
  {
   "cell_type": "markdown",
   "metadata": {},
   "source": [
    "### Measure of variation"
   ]
  },
  {
   "cell_type": "code",
   "execution_count": null,
   "metadata": {},
   "outputs": [],
   "source": [
    "Why Measure of Variation\n",
    "\n",
    "Only mesaure of centre is not enough, we need to know if the data is varient or not \n",
    "\n",
    "ie) what is the variation in the dataset???\n",
    "\n",
    "How data is dispersed???\n",
    "\n",
    "Let us discuss with the following example"
   ]
  },
  {
   "cell_type": "code",
   "execution_count": 50,
   "metadata": {},
   "outputs": [],
   "source": [
    "Sample_Dataset_1 = [100, 200, 300, 400, 500] \n",
    "Sample_Dataset_2 = [1, 2, 300, 499, 698]"
   ]
  },
  {
   "cell_type": "markdown",
   "metadata": {},
   "source": [
    "    Dataset 1 Varying similarly, there is no much variation in the data\n",
    "\n",
    "    Dataset 2 There is no simple patten in the data points, data are varying very much"
   ]
  },
  {
   "cell_type": "markdown",
   "metadata": {},
   "source": [
    "    But both the datasets share the same mean and median which is 300, \n",
    "    but they have the different variation in data points.\n",
    "\n",
    "    The numbers in the first dataset have a lower variation than the second one.\n",
    "\n",
    "    Hence, we need some kind of measurement to examine the variability of our dataset.\n",
    "    \n",
    "    Let us discuss what is it??"
   ]
  },
  {
   "cell_type": "markdown",
   "metadata": {},
   "source": [
    "### Standard Deviation"
   ]
  },
  {
   "cell_type": "markdown",
   "metadata": {},
   "source": [
    "    One common method to measure the variation of a dataset is the standard deviation (SD).\n",
    "    \n",
    "    It is a measure of the average distance between the values of each data point in the set and     the mean.\n",
    "\n",
    "    The SD will tell how a set of values spread out from their mean.\n",
    "\n",
    "     A low standard deviation indicates that the data points tend to be very close to the mean.\n",
    "     \n",
    "     A high standard deviation indicates that the data points are spread out over a large range         of values."
   ]
  },
  {
   "cell_type": "markdown",
   "metadata": {},
   "source": [
    "Let us calculate the standard deviations of the two different dataset having same mean"
   ]
  },
  {
   "cell_type": "code",
   "execution_count": 9,
   "metadata": {},
   "outputs": [],
   "source": [
    "Sample_Dataset_1 = [100, 200, 300, 400, 500] \n",
    "Sample_Dataset_2 = [1, 2, 300, 499, 698]"
   ]
  },
  {
   "cell_type": "code",
   "execution_count": 38,
   "metadata": {},
   "outputs": [
    {
     "name": "stdout",
     "output_type": "stream",
     "text": [
      "column1    158.113883\n",
      "dtype: float64\n"
     ]
    }
   ],
   "source": [
    "Sample_Dataset_1 = [100, 200, 300, 400, 500]\n",
    "#Converting list to dataframe\n",
    "df1 = pd.DataFrame(Sample_Dataset_1, columns = ['column1'])\n",
    "#calculating SD using std()\n",
    "sd = df1.std()\n",
    "print(sd)"
   ]
  },
  {
   "cell_type": "code",
   "execution_count": 39,
   "metadata": {},
   "outputs": [
    {
     "name": "stdout",
     "output_type": "stream",
     "text": [
      "   column\n",
      "0       1\n",
      "1       2\n",
      "2     300\n",
      "3     499\n",
      "4     698\n",
      "column    306.6798\n",
      "dtype: float64\n"
     ]
    }
   ],
   "source": [
    "Sample_Dataset_2 = [1, 2, 300, 499, 698]\n",
    "df2 = pd.DataFrame(Sample_Dataset_2, columns = ['column']) \n",
    "print(df2)\n",
    "sd = df2.std()\n",
    "print(sd)"
   ]
  },
  {
   "cell_type": "markdown",
   "metadata": {},
   "source": [
    "Note : - SD is affected by outliers as its calculation is based on the mean.\n",
    "\n",
    "         The smallest possible value of SD is zero. If SD is zero, all the numbers in a dataset            share the same value."
   ]
  },
  {
   "cell_type": "markdown",
   "metadata": {},
   "source": [
    "Let us calculate the SD for our housing price."
   ]
  },
  {
   "cell_type": "code",
   "execution_count": 19,
   "metadata": {},
   "outputs": [
    {
     "data": {
      "text/plain": [
       "0        1490000.0\n",
       "1        1220000.0\n",
       "2        1420000.0\n",
       "3        1515000.0\n",
       "4         670000.0\n",
       "           ...    \n",
       "63018     566000.0\n",
       "63019     500000.0\n",
       "63020     545000.0\n",
       "63021          NaN\n",
       "63022          NaN\n",
       "Name: Price, Length: 63023, dtype: float64"
      ]
     },
     "execution_count": 19,
     "metadata": {},
     "output_type": "execute_result"
    }
   ],
   "source": [
    "df['Price']"
   ]
  },
  {
   "cell_type": "code",
   "execution_count": 20,
   "metadata": {
    "scrolled": true
   },
   "outputs": [
    {
     "name": "stdout",
     "output_type": "stream",
     "text": [
      "593498.9190372757\n"
     ]
    }
   ],
   "source": [
    "sd = df['Price'].std()\n",
    "print(sd)"
   ]
  },
  {
   "cell_type": "markdown",
   "metadata": {},
   "source": [
    "    So Measure of center and Measure of variance is very important staistical measure of dataset."
   ]
  },
  {
   "cell_type": "markdown",
   "metadata": {},
   "source": [
    "### Graphical way to show the numerical data distribution"
   ]
  },
  {
   "cell_type": "markdown",
   "metadata": {},
   "source": [
    "#### Boxplot"
   ]
  },
  {
   "cell_type": "markdown",
   "metadata": {},
   "source": [
    "One approach to reveal the data distribution is to find a Five-Number Summary from our dataset.\n",
    "\n",
    "The Five-Number Summary includes:\n",
    "   \n",
    "     The 25th percentile or the first quartile (Q1)\n",
    "        - For a particular feature when we have all the data points 25% of data points are below      this number.\n",
    "        \n",
    "     Median\n",
    "    \n",
    "     The 75th percentile or the third quartile (Q3)\n",
    "        - 75 percentage of data points are below this number.\n",
    "        \n",
    "        Interquartile range (IQR), the width between the third and first quantiles. Expressed mathematically, we have IQR = Q3 — Q1.\n",
    "\n",
    "    Min, minimum value in the dataset excluding outliers, which corresponds to Q1–1.5xIQR.\n",
    "\n",
    "    Max, maximum value in the dataset, excluding outliers, which corresponds to Q3+ 1.5xIQR.\n"
   ]
  },
  {
   "cell_type": "markdown",
   "metadata": {},
   "source": [
    "One graphical way to present this Five-Number Summary is by creating a boxplot.\n",
    "\n",
    "When we are representing the Five-Number Summery using a plot, that plot is called boxplot\n"
   ]
  },
  {
   "cell_type": "code",
   "execution_count": null,
   "metadata": {},
   "outputs": [],
   "source": [
    "Boxplot very useful to \n",
    "\n",
    "    Understand the spread of the data.\n",
    "    Spot outliers.\n",
    "    Compare distributions."
   ]
  },
  {
   "cell_type": "markdown",
   "metadata": {},
   "source": [
    "<img src=\"boxplot.png\">"
   ]
  },
  {
   "cell_type": "markdown",
   "metadata": {},
   "source": [
    "    if we find some data points beyond maximum and minium in the box plot, \n",
    "    they are outliers and it is our desicion to keep or remove it from the dataset"
   ]
  },
  {
   "cell_type": "code",
   "execution_count": 39,
   "metadata": {},
   "outputs": [
    {
     "data": {
      "image/png": "[encoded data removed]",
      "text/plain": [
       "<Figure size 720x576 with 1 Axes>"
      ]
     },
     "metadata": {},
     "output_type": "display_data"
    }
   ],
   "source": [
    "#Seaborn boxplot() method used to generate a boxplot.\n",
    "#“Price” as the inputs for plotting data.\n",
    "#The “v” value in parameter “orient” is to render our boxplot in a vertical style.\n",
    "import matplotlib.pyplot as plt\n",
    "import seaborn as sns\n",
    "%matplotlib inline \n",
    "sns.set(style=\"whitegrid\")\n",
    "plt.figure(figsize=(10,8))\n",
    "ax = sns.boxplot(x='Price', data=df, orient=\"v\", showmeans=True, \n",
    "                meanprops={\"marker\":\"o\",\n",
    "                       \"markerfacecolor\":\"white\", \n",
    "                       \"markeredgecolor\":\"black\",\n",
    "                      \"markersize\":\"10\"})"
   ]
  },
  {
   "cell_type": "code",
   "execution_count": 50,
   "metadata": {},
   "outputs": [
    {
     "name": "stdout",
     "output_type": "stream",
     "text": [
      "997898.2414882415\n"
     ]
    }
   ],
   "source": [
    "average = df['Price'].mean()\n",
    "print(average)"
   ]
  },
  {
   "cell_type": "markdown",
   "metadata": {},
   "source": [
    "    beyond maximum some dots are there that data pointa are outliers"
   ]
  },
  {
   "cell_type": "markdown",
   "metadata": {},
   "source": [
    "There are three different types of houses in our dataset which are\n",
    "– “H” — House, “U” — Unit and “T” — Townhouse.\n",
    "\n",
    "We can create a box plot for each type of house.\n",
    "\n",
    "For that we need to add another parameter,“y” in our Seaborn boxplot() method."
   ]
  },
  {
   "cell_type": "code",
   "execution_count": 52,
   "metadata": {
    "scrolled": false
   },
   "outputs": [
    {
     "data": {
      "image/png": "[encoded data removed]",
      "text/plain": [
       "<Figure size 432x288 with 1 Axes>"
      ]
     },
     "metadata": {},
     "output_type": "display_data"
    }
   ],
   "source": [
    "ax = sns.boxplot(x='Type', y='Price', data=df, orient=\"v\")"
   ]
  },
  {
   "cell_type": "markdown",
   "metadata": {},
   "source": [
    "Using the above boxplot, we summarize the price based on the type"
   ]
  },
  {
   "cell_type": "code",
   "execution_count": null,
   "metadata": {},
   "outputs": [],
   "source": [
    "    Outlier in type u falling between 0.6 and 0.8 will harm the desicions\n",
    "    \n",
    "    Similarly for type t and h also we are having outliers and these has to be removed \n",
    "    from the dataset otherwise we will not get proper insight from the data."
   ]
  },
  {
   "cell_type": "code",
   "execution_count": 22,
   "metadata": {},
   "outputs": [],
   "source": [
    "import numpy as np"
   ]
  },
  {
   "cell_type": "code",
   "execution_count": 23,
   "metadata": {},
   "outputs": [],
   "source": [
    "def get_summary_boxplot(dataset):\n",
    "    mean = np.round(np.mean(dataset), 2)\n",
    "    median = np.round(np.median(dataset), 2)\n",
    "    min_value = np.round(dataset.min(), 2)\n",
    "    max_value = np.round(dataset.max(), 2)\n",
    "    quartile_1 = np.round(dataset.quantile(0.25), 2)\n",
    "    quartile_3 = np.round(dataset.quantile(0.75), 2)\n",
    "    # Interquartile range\n",
    "    iqr = np.round(quartile_3 - quartile_1, 2)\n",
    "    print('Min: %s' % min_value)\n",
    "    print('Mean: %s' % mean)\n",
    "    print('Max: %s' % max_value)\n",
    "    print('25th percentile: %s' % quartile_1)\n",
    "    print('Median: %s' % median)\n",
    "    print('75th percentile: %s' % quartile_3)\n",
    "    print('Interquartile range (IQR): %s' % iqr)"
   ]
  },
  {
   "cell_type": "code",
   "execution_count": 41,
   "metadata": {},
   "outputs": [
    {
     "name": "stdout",
     "output_type": "stream",
     "text": [
      "\n",
      "\n",
      "h type summary statistics\n",
      "Min: 131000.0\n",
      "Mean: 1110586.65\n",
      "Max: 11200000.0\n",
      "25th percentile: 687000.0\n",
      "Median: 935000.0\n",
      "75th percentile: 1346000.0\n",
      "Interquartile range (IQR): 659000.0\n",
      "\n",
      "\n",
      "t type summary statistics\n",
      "Min: 148000.0\n",
      "Mean: 911147.98\n",
      "Max: 3820000.0\n",
      "25th percentile: 660000.0\n",
      "Median: 830000.0\n",
      "75th percentile: 1100000.0\n",
      "Interquartile range (IQR): 440000.0\n",
      "\n",
      "\n",
      "u type summary statistics\n",
      "Min: 85000.0\n",
      "Mean: 630105.27\n",
      "Max: 6500000.0\n",
      "25th percentile: 455000.0\n",
      "Median: 585000.0\n",
      "75th percentile: 730000.0\n",
      "Interquartile range (IQR): 275000.0\n"
     ]
    }
   ],
   "source": [
    "filter_data = df.dropna(subset=['Price'])\n",
    "h_type_price = filter_data[filter_data['Type'] == 'h']['Price']\n",
    "t_type_price = filter_data[filter_data['Type'] == 't']['Price']\n",
    "u_type_price = filter_data[filter_data['Type'] == 'u']['Price']\n",
    "print('\\n\\nh type summary statistics')\n",
    "get_summary_boxplot(h_type_price)\n",
    "print('\\n\\nt type summary statistics')\n",
    "get_summary_boxplot(t_type_price)\n",
    "print('\\n\\nu type summary statistics')\n",
    "get_summary_boxplot(u_type_price)"
   ]
  },
  {
   "cell_type": "markdown",
   "metadata": {},
   "source": [
    "#### Histogram"
   ]
  },
  {
   "cell_type": "markdown",
   "metadata": {},
   "source": [
    "    Histograms highlight frequency while boxplots highlight the range of the data.\n",
    "\n",
    "    Data points are divided into some ranges  which is called as bin\n",
    "\n",
    "    Plotting how many data points are falling in a particular range is a histogram, so it is frequency diagram\n",
    "\n",
    "    A histogram is a graphical display that uses rectangular bars to show the frequency\n",
    "distribution of a set of numerical data.\n",
    "\n",
    "    The histogram enables us to visualize the underlying distribution pattern of our data."
   ]
  },
  {
   "cell_type": "markdown",
   "metadata": {},
   "source": [
    "The steps required to build a histogram are as follows:\n",
    "\n",
    "– Split our data into intervals which are called bins.\n",
    "\n",
    "– Record number of occurrences (frequency) for each number in your dataset and tabulate them\n",
    "into a Frequency Table.\n",
    "\n",
    "– Plot a histogram based on the Frequency Table obtained from Step 2."
   ]
  },
  {
   "cell_type": "markdown",
   "metadata": {},
   "source": [
    "<img src=\"histogram.png\">"
   ]
  },
  {
   "cell_type": "markdown",
   "metadata": {},
   "source": [
    "Let’s build a histogram to observe the data distribution for our housing price data."
   ]
  },
  {
   "cell_type": "code",
   "execution_count": 61,
   "metadata": {},
   "outputs": [],
   "source": [
    "#Seaborn distplot() is used to create histogram\n",
    "#distplot() - Distribution plot\n",
    "filter_data = df.dropna(subset=['Price'])\n",
    "#pre processing (Droppign null values of PRICE feature)"
   ]
  },
  {
   "cell_type": "code",
   "execution_count": 58,
   "metadata": {},
   "outputs": [
    {
     "data": {
      "text/plain": [
       "<AxesSubplot:xlabel='Price'>"
      ]
     },
     "execution_count": 58,
     "metadata": {},
     "output_type": "execute_result"
    },
    {
     "data": {
      "image/png": "[encoded data removed]",
      "text/plain": [
       "<Figure size 1008x576 with 1 Axes>"
      ]
     },
     "metadata": {},
     "output_type": "display_data"
    }
   ],
   "source": [
    "plt.figure(figsize=(14,8))\n",
    "sns.distplot(filter_data['Price'], kde=False)"
   ]
  },
  {
   "cell_type": "code",
   "execution_count": 57,
   "metadata": {},
   "outputs": [
    {
     "data": {
      "text/plain": [
       "<AxesSubplot:xlabel='Price'>"
      ]
     },
     "execution_count": 57,
     "metadata": {},
     "output_type": "execute_result"
    },
    {
     "data": {
      "image/png": "[encoded data removed]",
      "text/plain": [
       "<Figure size 1008x576 with 1 Axes>"
      ]
     },
     "metadata": {},
     "output_type": "display_data"
    }
   ],
   "source": [
    "plt.figure(figsize=(14,8))\n",
    "sns.distplot(filter_data['Price'])"
   ]
  },
  {
   "cell_type": "markdown",
   "metadata": {},
   "source": [
    "### Exploring Categorical Data"
   ]
  },
  {
   "cell_type": "markdown",
   "metadata": {},
   "source": [
    "We have only covered the descriptive statistical analysis of the numerical data (housing price).\n",
    "\n",
    "• How about the categorical data?\n",
    "\n",
    "    In our mind, we might have some questions relevant to the categorical data in our housing\n",
    "dataset.\n",
    "\n",
    "– What is the proportion of each type of house (h house,t —townhouse and u —unit) in our dataset?\n",
    "\n",
    "– Which region has the highest number of property sales?"
   ]
  },
  {
   "cell_type": "markdown",
   "metadata": {},
   "source": [
    "### Pie Chart"
   ]
  },
  {
   "cell_type": "markdown",
   "metadata": {},
   "source": [
    "Pie Chart is a simple graphical way to show the numerical proportion of categorical data in a\n",
    "dataset. \n",
    "\n",
    "– Pie Chart is also known as Circular Chart which is divided into wedge-shaped pieces.\n",
    "\n",
    "– The arc length of each piece is proportional to the relative frequency of the categorical data."
   ]
  },
  {
   "cell_type": "markdown",
   "metadata": {},
   "source": [
    "<img src=\"piechart.png\">"
   ]
  },
  {
   "cell_type": "markdown",
   "metadata": {},
   "source": [
    "What is the proportion of each type of house (h house,t —townhouse and u —unit) in our dataset?\n",
    "\n",
    "Let us answer above question using pie chart."
   ]
  },
  {
   "cell_type": "code",
   "execution_count": 69,
   "metadata": {
    "scrolled": true
   },
   "outputs": [
    {
     "data": {
      "text/plain": [
       "h    45053\n",
       "u    11655\n",
       "t     6315\n",
       "Name: Type, dtype: int64"
      ]
     },
     "execution_count": 69,
     "metadata": {},
     "output_type": "execute_result"
    }
   ],
   "source": [
    "#how many types are existing\n",
    "#Use Pandas method  “value_counts()” to get the frequency for each house type.\n",
    "type_counts = df['Type'].value_counts()\n",
    "type_counts"
   ]
  },
  {
   "cell_type": "markdown",
   "metadata": {},
   "source": [
    "Create a new dataframe, df2. This new dataframe has only a single column,\n",
    "“house_type” to hold the count number of each house type, “type_counts”\n",
    "\n",
    "Assign column name, “house_type” to parameter “y”. This enables the\n",
    "Pandas pie() method to automatically generate a Pie chart based on the count number\n",
    "of each house type. \n",
    "\n",
    "The parameter “autopct” is enabled to show the percentage of each\n",
    "house type in the Pie Chart."
   ]
  },
  {
   "cell_type": "code",
   "execution_count": 39,
   "metadata": {},
   "outputs": [
    {
     "data": {
      "text/plain": [
       "<AxesSubplot:ylabel='house_type'>"
      ]
     },
     "execution_count": 39,
     "metadata": {},
     "output_type": "execute_result"
    },
    {
     "data": {
      "image/png": "[encoded data removed]",
      "text/plain": [
       "<Figure size 720x720 with 1 Axes>"
      ]
     },
     "metadata": {},
     "output_type": "display_data"
    }
   ],
   "source": [
    "df2 = pd.DataFrame({'house_type': type_counts}, index = ['t', 'h', 'u'] )\n",
    "df2.plot.pie(y='house_type', figsize=(10,10), autopct='%1.1f%%')"
   ]
  },
  {
   "cell_type": "markdown",
   "metadata": {},
   "source": [
    "    Mejority is type h"
   ]
  },
  {
   "cell_type": "markdown",
   "metadata": {},
   "source": [
    "#### Bar Chart"
   ]
  },
  {
   "cell_type": "markdown",
   "metadata": {},
   "source": [
    "    Bar Chart is another effective graphical display for categorical data.\n",
    "\n",
    "    Used to show the number of occurrences or frequency for each categorical data using bars."
   ]
  },
  {
   "cell_type": "code",
   "execution_count": 70,
   "metadata": {},
   "outputs": [
    {
     "data": {
      "text/plain": [
       "Southern Metropolitan         17559\n",
       "Northern Metropolitan         16781\n",
       "Western Metropolitan          11717\n",
       "Eastern Metropolitan          10396\n",
       "South-Eastern Metropolitan     5212\n",
       "Eastern Victoria                564\n",
       "Northern Victoria               556\n",
       "Western Victoria                238\n",
       "Name: Regionname, dtype: int64"
      ]
     },
     "execution_count": 70,
     "metadata": {},
     "output_type": "execute_result"
    }
   ],
   "source": [
    "type_counts1 = df['Regionname'].value_counts()\n",
    "type_counts1"
   ]
  },
  {
   "cell_type": "code",
   "execution_count": 71,
   "metadata": {},
   "outputs": [
    {
     "data": {
      "image/png": "[encoded data removed]",
      "text/plain": [
       "<Figure size 1440x720 with 1 Axes>"
      ]
     },
     "metadata": {},
     "output_type": "display_data"
    }
   ],
   "source": [
    "sns.set(style='darkgrid')\n",
    "plt.figure(figsize=(20,10))\n",
    "ax = sns.countplot(x='Regionname', data=df)"
   ]
  },
  {
   "cell_type": "markdown",
   "metadata": {},
   "source": [
    "Descriptive Analytics is the first part of any model building exercise.\n",
    "\n",
    "We analyze the past data to identify patterns and trends of the dependent and\n",
    "independent variables.\n",
    "\n",
    "This stage also helps in hypothesis generation,variable transformation and any root cause\n",
    "analysis of specific behavioral patterns."
   ]
  },
  {
   "cell_type": "markdown",
   "metadata": {},
   "source": [
    "Please subscribe my chanel"
   ]
  },
  {
   "cell_type": "markdown",
   "metadata": {},
   "source": [
    "Thank you"
   ]
  }
 ],
 "metadata": {
  "kernelspec": {
   "display_name": "Python 3",
   "language": "python",
   "name": "python3"
  },
  "language_info": {
   "codemirror_mode": {
    "name": "ipython",
    "version": 3
   },
   "file_extension": ".py",
   "mimetype": "text/x-python",
   "name": "python",
   "nbconvert_exporter": "python",
   "pygments_lexer": "ipython3",
   "version": "3.7.6"
  }
 },
 "nbformat": 4,
 "nbformat_minor": 4
}
